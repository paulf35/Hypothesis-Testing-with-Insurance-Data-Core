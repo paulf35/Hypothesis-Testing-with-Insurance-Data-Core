{
 "cells": [
  {
   "cell_type": "markdown",
   "id": "e8673c2d",
   "metadata": {},
   "source": [
    "# Hypothesis Testing  with Insurance Data\n",
    "\n",
    "Author: Paul Foy"
   ]
  },
  {
   "cell_type": "markdown",
   "id": "2422d14a",
   "metadata": {},
   "source": [
    "## Imports and load data"
   ]
  },
  {
   "cell_type": "code",
   "execution_count": 1,
   "id": "69f4facd",
   "metadata": {},
   "outputs": [
    {
     "data": {
      "text/plain": [
       "'1.9.3'"
      ]
     },
     "execution_count": 1,
     "metadata": {},
     "output_type": "execute_result"
    }
   ],
   "source": [
    "# Imports\n",
    "import json\n",
    "import pandas as pd\n",
    "import numpy as np\n",
    "\n",
    "import matplotlib.pyplot as plt\n",
    "import seaborn as sns\n",
    "\n",
    "from scipy import stats\n",
    "import scipy\n",
    "scipy.__version__"
   ]
  },
  {
   "cell_type": "code",
   "execution_count": 2,
   "id": "4fe0ed93",
   "metadata": {},
   "outputs": [
    {
     "data": {
      "text/html": [
       "<div>\n",
       "<style scoped>\n",
       "    .dataframe tbody tr th:only-of-type {\n",
       "        vertical-align: middle;\n",
       "    }\n",
       "\n",
       "    .dataframe tbody tr th {\n",
       "        vertical-align: top;\n",
       "    }\n",
       "\n",
       "    .dataframe thead th {\n",
       "        text-align: right;\n",
       "    }\n",
       "</style>\n",
       "<table border=\"1\" class=\"dataframe\">\n",
       "  <thead>\n",
       "    <tr style=\"text-align: right;\">\n",
       "      <th></th>\n",
       "      <th>age</th>\n",
       "      <th>sex</th>\n",
       "      <th>bmi</th>\n",
       "      <th>children</th>\n",
       "      <th>smoker</th>\n",
       "      <th>region</th>\n",
       "      <th>charges</th>\n",
       "    </tr>\n",
       "  </thead>\n",
       "  <tbody>\n",
       "    <tr>\n",
       "      <th>0</th>\n",
       "      <td>19</td>\n",
       "      <td>female</td>\n",
       "      <td>27.900</td>\n",
       "      <td>0</td>\n",
       "      <td>yes</td>\n",
       "      <td>southwest</td>\n",
       "      <td>16884.92400</td>\n",
       "    </tr>\n",
       "    <tr>\n",
       "      <th>1</th>\n",
       "      <td>18</td>\n",
       "      <td>male</td>\n",
       "      <td>33.770</td>\n",
       "      <td>1</td>\n",
       "      <td>no</td>\n",
       "      <td>southeast</td>\n",
       "      <td>1725.55230</td>\n",
       "    </tr>\n",
       "    <tr>\n",
       "      <th>2</th>\n",
       "      <td>28</td>\n",
       "      <td>male</td>\n",
       "      <td>33.000</td>\n",
       "      <td>3</td>\n",
       "      <td>no</td>\n",
       "      <td>southeast</td>\n",
       "      <td>4449.46200</td>\n",
       "    </tr>\n",
       "    <tr>\n",
       "      <th>3</th>\n",
       "      <td>33</td>\n",
       "      <td>male</td>\n",
       "      <td>22.705</td>\n",
       "      <td>0</td>\n",
       "      <td>no</td>\n",
       "      <td>northwest</td>\n",
       "      <td>21984.47061</td>\n",
       "    </tr>\n",
       "    <tr>\n",
       "      <th>4</th>\n",
       "      <td>32</td>\n",
       "      <td>male</td>\n",
       "      <td>28.880</td>\n",
       "      <td>0</td>\n",
       "      <td>no</td>\n",
       "      <td>northwest</td>\n",
       "      <td>3866.85520</td>\n",
       "    </tr>\n",
       "  </tbody>\n",
       "</table>\n",
       "</div>"
      ],
      "text/plain": [
       "   age     sex     bmi  children smoker     region      charges\n",
       "0   19  female  27.900         0    yes  southwest  16884.92400\n",
       "1   18    male  33.770         1     no  southeast   1725.55230\n",
       "2   28    male  33.000         3     no  southeast   4449.46200\n",
       "3   33    male  22.705         0     no  northwest  21984.47061\n",
       "4   32    male  28.880         0     no  northwest   3866.85520"
      ]
     },
     "execution_count": 2,
     "metadata": {},
     "output_type": "execute_result"
    }
   ],
   "source": [
    "#Load data\n",
    "df = pd.read_csv('Data/insurance - insurance.csv')\n",
    "\n",
    "df.head()"
   ]
  },
  {
   "cell_type": "markdown",
   "id": "bb48b66f",
   "metadata": {},
   "source": [
    "## Test 1: Do smokers have higher insurance charges than non-smokers?"
   ]
  },
  {
   "cell_type": "markdown",
   "id": "8213f87a",
   "metadata": {},
   "source": [
    "### Hypothesis: \n",
    "\n",
    "- H<sub>0</sub>: There is no difference in charges between smokers and non-smokers.\n",
    "\n",
    "- H<sub>a</sub>: Charges for smokers are higher than non-smokers\n",
    "  \n",
    "### Determine Test Type: \n",
    "\n",
    "-  Numerical Data\n",
    "- Two groups/samples\n",
    "- We want to run a 2-sample T-test. \n",
    "\n",
    "### Assumptions:\n",
    "- No significant outliers\n",
    "- Normally distributed groups\n",
    "- Equal Variance between groups"
   ]
  },
  {
   "cell_type": "markdown",
   "id": "3f6c6f11",
   "metadata": {},
   "source": [
    "### Check for any significant outliers"
   ]
  },
  {
   "cell_type": "code",
   "execution_count": 3,
   "id": "2f29d82c",
   "metadata": {},
   "outputs": [
    {
     "data": {
      "text/plain": [
       "count     1338.000000\n",
       "mean     13270.422265\n",
       "std      12110.011237\n",
       "min       1121.873900\n",
       "25%       4740.287150\n",
       "50%       9382.033000\n",
       "75%      16639.912515\n",
       "max      63770.428010\n",
       "Name: charges, dtype: float64"
      ]
     },
     "execution_count": 3,
     "metadata": {},
     "output_type": "execute_result"
    }
   ],
   "source": [
    "## check the col that contains the measurement\n",
    "df['charges'].describe()"
   ]
  },
  {
   "cell_type": "code",
   "execution_count": 4,
   "id": "afdfb3ec",
   "metadata": {},
   "outputs": [
    {
     "data": {
      "text/plain": [
       "0       yes\n",
       "1        no\n",
       "2        no\n",
       "3        no\n",
       "4        no\n",
       "       ... \n",
       "1333     no\n",
       "1334     no\n",
       "1335     no\n",
       "1336     no\n",
       "1337    yes\n",
       "Name: smoker, Length: 1338, dtype: object"
      ]
     },
     "execution_count": 4,
     "metadata": {},
     "output_type": "execute_result"
    }
   ],
   "source": [
    "## check the col that contains info on the groups\n",
    "df['smoker']#.describe()"
   ]
  },
  {
   "cell_type": "code",
   "execution_count": 5,
   "id": "d43c4612",
   "metadata": {},
   "outputs": [
    {
     "data": {
      "text/plain": [
       "no     1064\n",
       "yes     274\n",
       "Name: smoker, dtype: int64"
      ]
     },
     "execution_count": 5,
     "metadata": {},
     "output_type": "execute_result"
    }
   ],
   "source": [
    "df['smoker'].value_counts()"
   ]
  },
  {
   "cell_type": "code",
   "execution_count": 6,
   "id": "83b029f4",
   "metadata": {},
   "outputs": [],
   "source": [
    "## save list of columns needed for each group\n",
    "smoker_charges = df.loc[df['smoker'] == 'yes', \"charges\"]\n",
    "nonsmoker_charges = df.loc[df['smoker'] == 'no', \"charges\"]"
   ]
  },
  {
   "cell_type": "code",
   "execution_count": 7,
   "id": "0171ef5d",
   "metadata": {},
   "outputs": [
    {
     "data": {
      "text/plain": [
       "0"
      ]
     },
     "execution_count": 7,
     "metadata": {},
     "output_type": "execute_result"
    }
   ],
   "source": [
    "#Check for outliers in smokers\n",
    "zscores_smoker = stats.zscore(smoker_charges)\n",
    "outliers_smoker = abs(zscores_smoker)>3\n",
    "np.sum(outliers_smoker)"
   ]
  },
  {
   "cell_type": "code",
   "execution_count": 8,
   "id": "7d1b4c76",
   "metadata": {},
   "outputs": [
    {
     "data": {
      "text/plain": [
       "24"
      ]
     },
     "execution_count": 8,
     "metadata": {},
     "output_type": "execute_result"
    }
   ],
   "source": [
    "#Check for outliers in non-smokers\n",
    "zscores_nonsmoker = stats.zscore(nonsmoker_charges)\n",
    "outliers_nonsmoker = abs(zscores_nonsmoker)>3\n",
    "np.sum(outliers_nonsmoker)"
   ]
  },
  {
   "cell_type": "code",
   "execution_count": 9,
   "id": "194f6674",
   "metadata": {},
   "outputs": [],
   "source": [
    "#Remove outliers in non-smokers group\n",
    "nonsmoker_charges = nonsmoker_charges[(np.abs(stats.zscore(nonsmoker_charges)) < 3)]"
   ]
  },
  {
   "cell_type": "markdown",
   "id": "92b8ad1f",
   "metadata": {},
   "source": [
    "### Test for normality"
   ]
  },
  {
   "cell_type": "code",
   "execution_count": 10,
   "id": "f0cc3ace",
   "metadata": {},
   "outputs": [
    {
     "data": {
      "text/plain": [
       "5.564930630036463e-14"
      ]
     },
     "execution_count": 10,
     "metadata": {},
     "output_type": "execute_result"
    }
   ],
   "source": [
    "## Check smoker group for normality\n",
    "result = stats.normaltest(smoker_charges)\n",
    "result.pvalue"
   ]
  },
  {
   "cell_type": "code",
   "execution_count": 11,
   "id": "cecd5686",
   "metadata": {},
   "outputs": [
    {
     "data": {
      "text/plain": [
       "274"
      ]
     },
     "execution_count": 11,
     "metadata": {},
     "output_type": "execute_result"
    }
   ],
   "source": [
    "## Check n for smoker group\n",
    "len(smoker_charges)"
   ]
  },
  {
   "cell_type": "code",
   "execution_count": 12,
   "id": "e54d9c9a",
   "metadata": {},
   "outputs": [
    {
     "data": {
      "text/plain": [
       "2.6945416315543976e-36"
      ]
     },
     "execution_count": 12,
     "metadata": {},
     "output_type": "execute_result"
    }
   ],
   "source": [
    "## Check non-smoker group for normality\n",
    "result = stats.normaltest(nonsmoker_charges)\n",
    "result.pvalue"
   ]
  },
  {
   "cell_type": "code",
   "execution_count": 13,
   "id": "b3a23258",
   "metadata": {},
   "outputs": [
    {
     "data": {
      "text/plain": [
       "1040"
      ]
     },
     "execution_count": 13,
     "metadata": {},
     "output_type": "execute_result"
    }
   ],
   "source": [
    "## Check n for non-smoker group\n",
    "len(nonsmoker_charges)"
   ]
  },
  {
   "cell_type": "markdown",
   "id": "4e0aefd8",
   "metadata": {},
   "source": [
    "Note: We have large enough groups that we can safely disregard the assumption of normality."
   ]
  },
  {
   "cell_type": "markdown",
   "id": "887f5bfd",
   "metadata": {},
   "source": [
    "### Test for equal variances"
   ]
  },
  {
   "cell_type": "code",
   "execution_count": 14,
   "id": "4feb86bb",
   "metadata": {},
   "outputs": [
    {
     "data": {
      "text/plain": [
       "LeveneResult(statistic=520.7468821724297, pvalue=2.4247238784347824e-97)"
      ]
     },
     "execution_count": 14,
     "metadata": {},
     "output_type": "execute_result"
    }
   ],
   "source": [
    "#Test for equal variance\n",
    "result = stats.levene(smoker_charges, nonsmoker_charges)\n",
    "result"
   ]
  },
  {
   "cell_type": "markdown",
   "id": "368e51fe",
   "metadata": {},
   "source": [
    "We met the assumption of normality but did NOT meet the assumption of equal variance.\n",
    "We will therefore run a Welch's t-test instead by adding equal_var=False to stats.ttest_ind"
   ]
  },
  {
   "cell_type": "markdown",
   "id": "82d5e353",
   "metadata": {},
   "source": [
    "### Final Hypothesis Test - T-Test"
   ]
  },
  {
   "cell_type": "code",
   "execution_count": 15,
   "id": "9bd3dad9",
   "metadata": {},
   "outputs": [
    {
     "name": "stdout",
     "output_type": "stream",
     "text": [
      "Ttest_indResult(statistic=33.732305987092516, pvalue=2.575322662587431e-104)\n"
     ]
    },
    {
     "data": {
      "text/plain": [
       "True"
      ]
     },
     "execution_count": 15,
     "metadata": {},
     "output_type": "execute_result"
    }
   ],
   "source": [
    "result = stats.ttest_ind(smoker_charges, nonsmoker_charges, equal_var=False)\n",
    "print(result)\n",
    "result.pvalue  < .05"
   ]
  },
  {
   "cell_type": "code",
   "execution_count": 16,
   "id": "a65835d6",
   "metadata": {},
   "outputs": [
    {
     "data": {
      "text/plain": [
       "32050.23183153284"
      ]
     },
     "execution_count": 16,
     "metadata": {},
     "output_type": "execute_result"
    }
   ],
   "source": [
    "smoker_charges.mean()"
   ]
  },
  {
   "cell_type": "code",
   "execution_count": 17,
   "id": "8de3f873",
   "metadata": {},
   "outputs": [
    {
     "data": {
      "text/plain": [
       "7939.8608446721155"
      ]
     },
     "execution_count": 17,
     "metadata": {},
     "output_type": "execute_result"
    }
   ],
   "source": [
    "nonsmoker_charges.mean()"
   ]
  },
  {
   "cell_type": "markdown",
   "id": "a7f01154",
   "metadata": {},
   "source": [
    "We had a p-value < .05 for our welch's t-test. We reject the null hypothesis and support the alternative that there is a significant difference between smokers and non-smokers. "
   ]
  },
  {
   "cell_type": "markdown",
   "id": "e88a3fd0",
   "metadata": {},
   "source": [
    "### Supporting Visual"
   ]
  },
  {
   "cell_type": "code",
   "execution_count": 18,
   "id": "167a33ec",
   "metadata": {},
   "outputs": [
    {
     "data": {
      "image/png": "[encoded data removed]",
      "text/plain": [
       "<Figure size 640x480 with 1 Axes>"
      ]
     },
     "metadata": {},
     "output_type": "display_data"
    }
   ],
   "source": [
    "#Visual showing differences in average charges between groups\n",
    "ax = sns.barplot(data= df, x= 'smoker', y='charges', errwidth=0)\n",
    "ax.set_title('Avg. Charges for Smokers and Non-Smokers')\n",
    "for i in ax.containers:\n",
    "    ax.bar_label(i,);"
   ]
  },
  {
   "cell_type": "markdown",
   "id": "493025d7",
   "metadata": {},
   "source": [
    " ## Q2. Are men more likely to smoke than women?"
   ]
  },
  {
   "cell_type": "markdown",
   "id": "31dd1e3c",
   "metadata": {},
   "source": [
    "### Hypothesis: \n",
    "\n",
    "- H<sub>0</sub>: There is no relationship between Sex and if someone is a smoker.\n",
    "\n",
    "- H<sub>a</sub>:A person's Sex influences if they are a Smoker or a Non-Smoker. \n",
    "  \n",
    "### Determine Test Type: \n",
    "\n",
    "- We're comparing 2 categorical groups\n",
    "- We'll run a Chi-Square test.\n",
    "\n",
    "### Assumptions:\n",
    "- The outcome is binary (e.g.: two groups, success vs failure)\n",
    "- The trials/observations are independent\n"
   ]
  },
  {
   "cell_type": "markdown",
   "id": "640cb077",
   "metadata": {},
   "source": [
    "### Testing"
   ]
  },
  {
   "cell_type": "code",
   "execution_count": 19,
   "id": "4fceb89e",
   "metadata": {},
   "outputs": [
    {
     "data": {
      "text/html": [
       "<div>\n",
       "<style scoped>\n",
       "    .dataframe tbody tr th:only-of-type {\n",
       "        vertical-align: middle;\n",
       "    }\n",
       "\n",
       "    .dataframe tbody tr th {\n",
       "        vertical-align: top;\n",
       "    }\n",
       "\n",
       "    .dataframe thead th {\n",
       "        text-align: right;\n",
       "    }\n",
       "</style>\n",
       "<table border=\"1\" class=\"dataframe\">\n",
       "  <thead>\n",
       "    <tr style=\"text-align: right;\">\n",
       "      <th>smoker</th>\n",
       "      <th>no</th>\n",
       "      <th>yes</th>\n",
       "    </tr>\n",
       "    <tr>\n",
       "      <th>sex</th>\n",
       "      <th></th>\n",
       "      <th></th>\n",
       "    </tr>\n",
       "  </thead>\n",
       "  <tbody>\n",
       "    <tr>\n",
       "      <th>female</th>\n",
       "      <td>547</td>\n",
       "      <td>115</td>\n",
       "    </tr>\n",
       "    <tr>\n",
       "      <th>male</th>\n",
       "      <td>517</td>\n",
       "      <td>159</td>\n",
       "    </tr>\n",
       "  </tbody>\n",
       "</table>\n",
       "</div>"
      ],
      "text/plain": [
       "smoker   no  yes\n",
       "sex             \n",
       "female  547  115\n",
       "male    517  159"
      ]
     },
     "execution_count": 19,
     "metadata": {},
     "output_type": "execute_result"
    }
   ],
   "source": [
    "#Create contingency table with pd.crosstab()\n",
    "table = pd.crosstab(df['sex'], df['smoker'])\n",
    "table"
   ]
  },
  {
   "cell_type": "code",
   "execution_count": 20,
   "id": "8f8d8453",
   "metadata": {},
   "outputs": [],
   "source": [
    "#Run test\n",
    "result = stats.chi2_contingency(table)\n",
    "chi2, p, deg_free, expected_vals = result "
   ]
  },
  {
   "cell_type": "code",
   "execution_count": 21,
   "id": "bac8bcb1",
   "metadata": {},
   "outputs": [
    {
     "name": "stdout",
     "output_type": "stream",
     "text": [
      "0.006548143503580696\n"
     ]
    },
    {
     "data": {
      "text/plain": [
       "True"
      ]
     },
     "execution_count": 21,
     "metadata": {},
     "output_type": "execute_result"
    }
   ],
   "source": [
    "# What was our p-value?\n",
    "print(p)\n",
    "p<.05"
   ]
  },
  {
   "cell_type": "markdown",
   "id": "1766bd78",
   "metadata": {},
   "source": [
    "Note: Because our p-value is less than .05, so we reject the null hypothesis. There is a significant difference between men and women smokers."
   ]
  },
  {
   "cell_type": "markdown",
   "id": "a7d06a98",
   "metadata": {},
   "source": [
    "### Supporting Visual"
   ]
  },
  {
   "cell_type": "code",
   "execution_count": 22,
   "id": "96adaf66",
   "metadata": {},
   "outputs": [
    {
     "data": {
      "image/png": "[encoded data removed]",
      "text/plain": [
       "<Figure size 640x480 with 1 Axes>"
      ]
     },
     "metadata": {},
     "output_type": "display_data"
    }
   ],
   "source": [
    "ax = sns.countplot(data= df, x= 'smoker', hue= 'sex')\n",
    "ax.set_title('Smokers by Sex');"
   ]
  },
  {
   "cell_type": "markdown",
   "id": "7fe05041",
   "metadata": {},
   "source": [
    "## Q3. Do different regions have different charges, on average?"
   ]
  },
  {
   "cell_type": "markdown",
   "id": "a8829213",
   "metadata": {},
   "source": [
    "### Hypothesis: \n",
    "\n",
    "- H<sub>0</sub>: There is no relationship between Regions and charges.\n",
    "\n",
    "- H<sub>a</sub>:Region impacts charges. \n",
    "  \n",
    "### Determine Test Type: \n",
    "- Numerical Data\n",
    "- More than two groups/samples\n",
    "- We want to run an ANOVA test.\n",
    "\n",
    "### Assumptions:\n",
    "- Normality\n",
    "- Equal variance\n",
    "- No significant outliers"
   ]
  },
  {
   "cell_type": "markdown",
   "id": "9debaa20",
   "metadata": {},
   "source": [
    "### Test assumptions"
   ]
  },
  {
   "cell_type": "code",
   "execution_count": 23,
   "id": "57045d2d",
   "metadata": {},
   "outputs": [
    {
     "data": {
      "text/plain": [
       "dict_keys(['southwest', 'southeast', 'northwest', 'northeast'])"
      ]
     },
     "execution_count": 23,
     "metadata": {},
     "output_type": "execute_result"
    }
   ],
   "source": [
    "## Create groups dictionary. There are only 3 groups, but this is even more helpful when there are many groups\n",
    "groups = {}\n",
    "## Loop through all unique categories\n",
    "for i in df['region'].unique():\n",
    "    ## Get series for group and rename\n",
    "    data = df.loc[df['region']==i,'charges'].copy()\n",
    "    \n",
    "    # save into the dictionary\n",
    "    groups[i] = data\n",
    "groups.keys()"
   ]
  },
  {
   "cell_type": "code",
   "execution_count": 24,
   "id": "b08a5d66",
   "metadata": {},
   "outputs": [
    {
     "name": "stdout",
     "output_type": "stream",
     "text": [
      "There were 8 outliers in the southwest group.\n",
      "There were 2 outliers in the southeast group.\n",
      "There were 7 outliers in the northwest group.\n",
      "There were 4 outliers in the northeast group.\n"
     ]
    }
   ],
   "source": [
    "# Check for outliers\n",
    "## Loop through groups dict\n",
    "for sector, data in groups.items():\n",
    "\n",
    "    ## determine if there are any outliers\n",
    "    outliers = np.abs(stats.zscore(data)) > 3\n",
    "    \n",
    "    ## print a statement about how many outliers for which group name\n",
    "    print(f\"There were {outliers.sum()} outliers in the {sector} group.\")\n",
    "\n",
    "    ## Remove the outiers from data and overwrite the sector data in the dict\n",
    "    data = data.loc[~outliers]\n",
    "    groups[sector] = data"
   ]
  },
  {
   "cell_type": "code",
   "execution_count": 25,
   "id": "cb6eae25",
   "metadata": {},
   "outputs": [
    {
     "data": {
      "text/html": [
       "<div>\n",
       "<style scoped>\n",
       "    .dataframe tbody tr th:only-of-type {\n",
       "        vertical-align: middle;\n",
       "    }\n",
       "\n",
       "    .dataframe tbody tr th {\n",
       "        vertical-align: top;\n",
       "    }\n",
       "\n",
       "    .dataframe thead th {\n",
       "        text-align: right;\n",
       "    }\n",
       "</style>\n",
       "<table border=\"1\" class=\"dataframe\">\n",
       "  <thead>\n",
       "    <tr style=\"text-align: right;\">\n",
       "      <th></th>\n",
       "      <th>n</th>\n",
       "      <th>p</th>\n",
       "      <th>test stat</th>\n",
       "    </tr>\n",
       "  </thead>\n",
       "  <tbody>\n",
       "    <tr>\n",
       "      <th>southwest</th>\n",
       "      <td>317.0</td>\n",
       "      <td>7.728611e-22</td>\n",
       "      <td>97.223886</td>\n",
       "    </tr>\n",
       "    <tr>\n",
       "      <th>southeast</th>\n",
       "      <td>362.0</td>\n",
       "      <td>1.936990e-13</td>\n",
       "      <td>58.544942</td>\n",
       "    </tr>\n",
       "    <tr>\n",
       "      <th>northwest</th>\n",
       "      <td>318.0</td>\n",
       "      <td>2.940543e-19</td>\n",
       "      <td>85.341045</td>\n",
       "    </tr>\n",
       "    <tr>\n",
       "      <th>northeast</th>\n",
       "      <td>320.0</td>\n",
       "      <td>3.557877e-17</td>\n",
       "      <td>75.749565</td>\n",
       "    </tr>\n",
       "  </tbody>\n",
       "</table>\n",
       "</div>"
      ],
      "text/plain": [
       "               n             p  test stat\n",
       "southwest  317.0  7.728611e-22  97.223886\n",
       "southeast  362.0  1.936990e-13  58.544942\n",
       "northwest  318.0  2.940543e-19  85.341045\n",
       "northeast  320.0  3.557877e-17  75.749565"
      ]
     },
     "execution_count": 25,
     "metadata": {},
     "output_type": "execute_result"
    }
   ],
   "source": [
    "## Running normal test on each group and confirming there are >20 in each group\n",
    "norm_results = {}\n",
    "for i, data in groups.items():\n",
    "    stat, p = stats.normaltest(data)\n",
    "    ## save the p val, test statistic, and the size of the group\n",
    "    norm_results[i] = {'n': len(data),\n",
    "                             'p':p,\n",
    "                             'test stat':stat,}\n",
    "## convert to a dataframe\n",
    "norm_results_df = pd.DataFrame(norm_results).T\n",
    "norm_results_df"
   ]
  },
  {
   "cell_type": "code",
   "execution_count": 26,
   "id": "68b80659",
   "metadata": {},
   "outputs": [
    {
     "data": {
      "text/html": [
       "<div>\n",
       "<style scoped>\n",
       "    .dataframe tbody tr th:only-of-type {\n",
       "        vertical-align: middle;\n",
       "    }\n",
       "\n",
       "    .dataframe tbody tr th {\n",
       "        vertical-align: top;\n",
       "    }\n",
       "\n",
       "    .dataframe thead th {\n",
       "        text-align: right;\n",
       "    }\n",
       "</style>\n",
       "<table border=\"1\" class=\"dataframe\">\n",
       "  <thead>\n",
       "    <tr style=\"text-align: right;\">\n",
       "      <th></th>\n",
       "      <th>n</th>\n",
       "      <th>p</th>\n",
       "      <th>test stat</th>\n",
       "      <th>sig</th>\n",
       "    </tr>\n",
       "  </thead>\n",
       "  <tbody>\n",
       "    <tr>\n",
       "      <th>southwest</th>\n",
       "      <td>317.0</td>\n",
       "      <td>7.728611e-22</td>\n",
       "      <td>97.223886</td>\n",
       "      <td>True</td>\n",
       "    </tr>\n",
       "    <tr>\n",
       "      <th>southeast</th>\n",
       "      <td>362.0</td>\n",
       "      <td>1.936990e-13</td>\n",
       "      <td>58.544942</td>\n",
       "      <td>True</td>\n",
       "    </tr>\n",
       "    <tr>\n",
       "      <th>northwest</th>\n",
       "      <td>318.0</td>\n",
       "      <td>2.940543e-19</td>\n",
       "      <td>85.341045</td>\n",
       "      <td>True</td>\n",
       "    </tr>\n",
       "    <tr>\n",
       "      <th>northeast</th>\n",
       "      <td>320.0</td>\n",
       "      <td>3.557877e-17</td>\n",
       "      <td>75.749565</td>\n",
       "      <td>True</td>\n",
       "    </tr>\n",
       "  </tbody>\n",
       "</table>\n",
       "</div>"
      ],
      "text/plain": [
       "               n             p  test stat   sig\n",
       "southwest  317.0  7.728611e-22  97.223886  True\n",
       "southeast  362.0  1.936990e-13  58.544942  True\n",
       "northwest  318.0  2.940543e-19  85.341045  True\n",
       "northeast  320.0  3.557877e-17  75.749565  True"
      ]
     },
     "execution_count": 26,
     "metadata": {},
     "output_type": "execute_result"
    }
   ],
   "source": [
    "### checking sig with pandas \n",
    "norm_results_df['sig'] = norm_results_df['p'] < .05 \n",
    "norm_results_df"
   ]
  },
  {
   "cell_type": "markdown",
   "id": "f6192300",
   "metadata": {},
   "source": [
    "### Testing assumption of equal variance"
   ]
  },
  {
   "cell_type": "code",
   "execution_count": 27,
   "id": "8413fe4b",
   "metadata": {},
   "outputs": [
    {
     "data": {
      "text/plain": [
       "LeveneResult(statistic=9.518349004554441, pvalue=3.2035503711783993e-06)"
      ]
     },
     "execution_count": 27,
     "metadata": {},
     "output_type": "execute_result"
    }
   ],
   "source": [
    "stats.levene(*groups.values())"
   ]
  },
  {
   "cell_type": "markdown",
   "id": "c424fe28",
   "metadata": {},
   "source": [
    "We met the assumption of equal variance."
   ]
  },
  {
   "cell_type": "markdown",
   "id": "0cfe75cf",
   "metadata": {},
   "source": [
    "### Run One-Way ANOVA Test"
   ]
  },
  {
   "cell_type": "code",
   "execution_count": 28,
   "id": "e649bdf2",
   "metadata": {},
   "outputs": [
    {
     "data": {
      "text/plain": [
       "F_onewayResult(statistic=5.496394682506454, pvalue=0.0009419710075537749)"
      ]
     },
     "execution_count": 28,
     "metadata": {},
     "output_type": "execute_result"
    }
   ],
   "source": [
    "# perform the correct hypothesis test\n",
    "# note again the use of the * operator for convenience\n",
    "result = stats.f_oneway( *groups.values())\n",
    "result"
   ]
  },
  {
   "cell_type": "markdown",
   "id": "783a4ac5",
   "metadata": {},
   "source": [
    "There is a significant relationship. \n",
    "\n",
    "We need to compare every group against every other group and return a p-value for every possible combination of groups"
   ]
  },
  {
   "cell_type": "code",
   "execution_count": 29,
   "id": "3ccf696d",
   "metadata": {},
   "outputs": [],
   "source": [
    "from statsmodels.stats.multicomp import pairwise_tukeyhsd\n",
    "## save the values as charges and the labels to the region\n",
    "values = df['charges']\n",
    "labels = df['region']"
   ]
  },
  {
   "cell_type": "code",
   "execution_count": 30,
   "id": "0ce13e93",
   "metadata": {},
   "outputs": [
    {
     "data": {
      "text/html": [
       "<table class=\"simpletable\">\n",
       "<caption>Multiple Comparison of Means - Tukey HSD, FWER=0.05</caption>\n",
       "<tr>\n",
       "   <th>group1</th>    <th>group2</th>    <th>meandiff</th>   <th>p-adj</th>    <th>lower</th>     <th>upper</th>   <th>reject</th>\n",
       "</tr>\n",
       "<tr>\n",
       "  <td>northeast</td> <td>northwest</td>  <td>-988.8091</td> <td>0.7245</td> <td>-3428.9343</td> <td>1451.3161</td>  <td>False</td>\n",
       "</tr>\n",
       "<tr>\n",
       "  <td>northeast</td> <td>southeast</td>  <td>1329.0269</td> <td>0.4745</td> <td>-1044.9417</td> <td>3702.9955</td>  <td>False</td>\n",
       "</tr>\n",
       "<tr>\n",
       "  <td>northeast</td> <td>southwest</td> <td>-1059.4471</td> <td>0.6792</td> <td>-3499.5723</td> <td>1380.6781</td>  <td>False</td>\n",
       "</tr>\n",
       "<tr>\n",
       "  <td>northwest</td> <td>southeast</td>  <td>2317.8361</td> <td>0.0583</td>  <td>-54.1994</td>  <td>4689.8716</td>  <td>False</td>\n",
       "</tr>\n",
       "<tr>\n",
       "  <td>northwest</td> <td>southwest</td>   <td>-70.638</td>  <td>0.9999</td> <td>-2508.8826</td> <td>2367.6066</td>  <td>False</td>\n",
       "</tr>\n",
       "<tr>\n",
       "  <td>southeast</td> <td>southwest</td> <td>-2388.4741</td> <td>0.0477</td> <td>-4760.5096</td> <td>-16.4386</td>   <td>True</td> \n",
       "</tr>\n",
       "</table>"
      ],
      "text/plain": [
       "<class 'statsmodels.iolib.table.SimpleTable'>"
      ]
     },
     "execution_count": 30,
     "metadata": {},
     "output_type": "execute_result"
    }
   ],
   "source": [
    "## perform tukey's multiple comparison test and display the summary\n",
    "tukeys_results = pairwise_tukeyhsd(values,labels)\n",
    "tukeys_results.summary()"
   ]
  },
  {
   "cell_type": "markdown",
   "id": "5528a492",
   "metadata": {},
   "source": [
    "Our test show that there is a significant difference in the results of the southeast region compared to the southwest region. "
   ]
  },
  {
   "cell_type": "markdown",
   "id": "f286feac",
   "metadata": {},
   "source": [
    "### Supporting Visual"
   ]
  },
  {
   "cell_type": "code",
   "execution_count": 31,
   "id": "eb145574",
   "metadata": {},
   "outputs": [
    {
     "data": {
      "image/png": "[encoded data removed]",
      "text/plain": [
       "<Figure size 640x480 with 1 Axes>"
      ]
     },
     "metadata": {},
     "output_type": "display_data"
    }
   ],
   "source": [
    "ax = sns.barplot(data= df, x= 'region', y= 'charges', errwidth=0)\n",
    "ax.set_title('Average Charges per Region');\n",
    "for i in ax.containers:\n",
    "    ax.bar_label(i,);"
   ]
  }
 ],
 "metadata": {
  "kernelspec": {
   "display_name": "Python (dojo-env)",
   "language": "python",
   "name": "dojo-env"
  },
  "language_info": {
   "codemirror_mode": {
    "name": "ipython",
    "version": 3
   },
   "file_extension": ".py",
   "mimetype": "text/x-python",
   "name": "python",
   "nbconvert_exporter": "python",
   "pygments_lexer": "ipython3",
   "version": "3.9.15"
  },
  "toc": {
   "base_numbering": 1,
   "nav_menu": {},
   "number_sections": false,
   "sideBar": true,
   "skip_h1_title": false,
   "title_cell": "Table of Contents",
   "title_sidebar": "Contents",
   "toc_cell": false,
   "toc_position": {},
   "toc_section_display": true,
   "toc_window_display": false
  }
 },
 "nbformat": 4,
 "nbformat_minor": 5
}
